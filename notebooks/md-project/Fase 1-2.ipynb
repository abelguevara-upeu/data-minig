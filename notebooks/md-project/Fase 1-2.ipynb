{
 "cells": [
  {
   "cell_type": "markdown",
   "id": "3734c653-c8ef-4f11-b3ed-aae134da84aa",
   "metadata": {},
   "source": [
    "# Proyecto: Predicción de Anemia en Mujeres"
   ]
  },
  {
   "cell_type": "markdown",
   "id": "ec08a683",
   "metadata": {},
   "source": [
    "## 📊 Perfil del Proyecto"
   ]
  },
  {
   "cell_type": "markdown",
   "id": "2ce53527-45bb-4bbc-8bb4-c25cf0cfc216",
   "metadata": {},
   "source": [
    "## Fase 1. Business Understanding"
   ]
  },
  {
   "cell_type": "markdown",
   "id": "f7bc7601",
   "metadata": {},
   "source": [
    "La anemia en mujeres en edad fértil representa un desafío significativo de salud pública en Perú, con una prevalencia nacional que oscila entre 30-40% según reportes del Ministerio de Salud. La detección temprana es crucial para implementar intervenciones efectivas, pero los métodos actuales de screening presentan limitaciones en cobertura y eficiencia. Este proyecto busca desarrollar un modelo predictivo que permita identificar mujeres en riesgo de anemia utilizando datos disponibles de encuestas nacionales de salud.\n",
    "\n",
    "### 1. Objetivos\n",
    "Objetivo Principal:\n",
    "Desarrollar un modelo de clasificación binaria que prediga la presencia de anemia en mujeres peruanas en edad fértil (15-49 años) con un F1-Score ≥ 0.85.\n",
    "\n",
    "#### Objetivos Específicos:\n",
    "\n",
    "1. Identificar los cinco principales factores de riesgo asociados con anemia\n",
    "2. Establecer un sistema de priorización para intervenciones de salud pública\n",
    "\n",
    "3. Reducir los costos operativos de screening en al menos 30%\n",
    "\n",
    "4. Proporcionar recomendaciones accionables para programas de prevención\n",
    "\n",
    "### Criterios de Éxito\n",
    "#### Métricos Técnicos:\n",
    "\n",
    "- F1-Score: ≥ 0.85 en validación cruzada\n",
    "\n",
    "- Precisión: ≥ 0.80\n",
    "\n",
    "- Sensibilidad: ≥ 0.85\n",
    "\n",
    "- AUC-ROC: ≥ 0.90\n",
    "\n",
    "#### Métricas de Negocio:\n",
    "\n",
    "- Identificación de al menos 5 factores de riesgo con significancia estadística\n",
    "\n",
    "- Reducción del 30% en costos de screening mediante focalización\n",
    "\n",
    "- Tasa de detección temprana del 80% en población de riesgo\n",
    "\n",
    "- Validación y aceptación por parte de expertos en salud pública"
   ]
  },
  {
   "cell_type": "markdown",
   "id": "4d1b2f94-3de4-4de6-a849-fe0edef574f2",
   "metadata": {},
   "source": [
    "## Fase 2. Data Understanding"
   ]
  },
  {
   "cell_type": "markdown",
   "id": "4954cbcf-bd6f-4f91-b4d2-a1fb7e2ff89c",
   "metadata": {},
   "source": [
    "### 📥 2. Fuentes de Datos\n",
    "\n",
    "#### 📁 Descripción del Dataset\n",
    "\n",
    "El proyecto utiliza dos datasets principales de encuestas de salud peruanas:\n",
    "\n",
    "1. RECH0.csv: Datos demográficos y socioeconómicos de hogares\n",
    "\n",
    "    - Registros: 37,390\n",
    "\n",
    "    - Variables: 44 columnas\n",
    "\n",
    "    - Período de recolección: 2024\n",
    "\n",
    "2. RECH5.csv: Datos de salud y nutrición de mujeres en edad fértil\n",
    "\n",
    "    - Registros: 38,488\n",
    "\n",
    "    - Variables: 40 columnas\n",
    "\n",
    "    - Período de recolección: 2024\n",
    "\n",
    "#### Variables Clave Identificadas\n",
    "##### Variables Demográficas (RECH0):\n",
    "\n",
    "- IDHOGAR: Identificador único del hogar\n",
    "\n",
    "- EDAD_MUJER: Edad de la mujer en años\n",
    "\n",
    "- NIVEL_EDUCATIVO: Máximo nivel educativo alcanzado\n",
    "\n",
    "- REGION: Región o departamento de residencia\n",
    "\n",
    "- AREA_URBANA_RURAL: Clasificación urbano/rural\n",
    "\n",
    "- IDIOMA_MATERNO: Idioma principal hablado\n",
    "\n",
    "- ACCESO_SERVICIOS_BASICOS: Indicador de acceso a servicios\n",
    "\n",
    "##### Variables de Salud (RECH5):\n",
    "\n",
    "- HEMOGLOBINA: Nivel de hemoglobina en g/dL\n",
    "\n",
    "- IMC: Índice de Masa Corporal\n",
    "\n",
    "- PESO_KG: Peso en kilogramos\n",
    "\n",
    "- TALLA_CM: Talla en centímetros\n",
    "\n",
    "- EMBARAZO_ACTUAL: Estado de embarazo actual\n",
    "\n",
    "- SUPLEMENTOS_HIERRO: Consumo de suplementos de hierro\n",
    "\n",
    "- ANEMIA_CLASIFICACION: Clasificación actual de anemia\n",
    "\n",
    "#### Estrategia de Integración\n",
    "Los datasets se unirán mediante la variable IDHOGAR, permitiendo consolidar información demográfica con datos de salud para el análisis integral.\n",
    "\n",
    "#### Consideraciones Éticas\n",
    "- Todos los datos personales están anonimizados\n",
    "\n",
    "- Cumplimiento de la Ley de Protección de Datos Personales peruana\n",
    "\n",
    "- Uso exclusivo para investigación en salud pública\n",
    "\n",
    "- Aprobación del comité de ética correspondiente\n",
    "\n"
   ]
  },
  {
   "cell_type": "code",
   "execution_count": null,
   "id": "ff1f7fd4-cc6a-48d1-ac59-ed911ecc493f",
   "metadata": {},
   "outputs": [],
   "source": [
    "import pandas as pd\n",
    "import numpy as np\n",
    "\n",
    "'''\n",
    "df_p1 = pd.read_csv(\"in_data_cruda_p1_27072025.csv\",\n",
    "                    encoding='utf-8',      # o 'latin-1' si hay caracteres especiales\n",
    "                    sep=';',               # separador (por defecto es coma)\n",
    "                    header=0,              # fila que contiene los nombres de columnas\n",
    "                    index_col=None)        # si quieres usar una columna como índice\n",
    "'''\n",
    "df_1 = pd.read_csv(\"md-project/data/968-Modulo1629/RECH5_2024.csv\")"
   ]
  },
  {
   "cell_type": "code",
   "execution_count": null,
   "id": "322b2286",
   "metadata": {},
   "outputs": [],
   "source": [
    "df_2 = pd.read_csv(\"md-project/data/968-Modulo1638/RECH0_2024.csv\")"
   ]
  },
  {
   "cell_type": "code",
   "execution_count": null,
   "id": "6f05f347-77f6-40e2-951b-1f6e96c6e7bc",
   "metadata": {},
   "outputs": [],
   "source": [
    "# Resumen general 1\n",
    "df_1.info()\n",
    "print('df.columns:',df_1.columns)\n",
    "print('df.shape:',df_1.shape)\n",
    "df_1.head(10)\n",
    "\n",
    "# Resumen general 2\n",
    "df_2.info()\n",
    "print('df.columns:',df_2.columns)\n",
    "print('df.shape:',df_2.shape)\n",
    "df_2.head(10)"
   ]
  }
 ],
 "metadata": {
  "kernelspec": {
   "display_name": "Python 3 (ipykernel)",
   "language": "python",
   "name": "python3"
  },
  "language_info": {
   "codemirror_mode": {
    "name": "ipython",
    "version": 3
   },
   "file_extension": ".py",
   "mimetype": "text/x-python",
   "name": "python",
   "nbconvert_exporter": "python",
   "pygments_lexer": "ipython3",
   "version": "3.12.7"
  }
 },
 "nbformat": 4,
 "nbformat_minor": 5
}
