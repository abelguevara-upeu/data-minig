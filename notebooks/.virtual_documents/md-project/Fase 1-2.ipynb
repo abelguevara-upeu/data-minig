

















import pandas as pd
import numpy as np
import os

print('Ruta raíz:', os.getcwd())

df_1 = pd.read_csv("md-project/data/raw/968-Modulo1629/RECH0_2024.csv")
df_2 = pd.read_csv("md-project/data/raw/968-Modulo1638/RECH5_2024.csv")


# Resumen general Dataset RECH0
df_1.info()

print('df.columns:',df_1.columns)
print('df.shape:',df_1.shape)
df_1.head(10)


# Resumen general Dataset RECH5
df_2.info()
print('df.columns:',df_2.columns)
print('df.shape:',df_2.shape)
df_2.head(10)
