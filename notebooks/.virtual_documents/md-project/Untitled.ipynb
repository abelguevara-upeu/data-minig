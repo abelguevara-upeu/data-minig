# Solo necesitas ejecutar esto una vez en tu entorno.
# Si usas Google Colab, Anaconda, etc., probablemente ya estén instaladas.
!pip install dnspython requests pandas matplotlib

import dns.resolver
import requests
from concurrent.futures import ThreadPoolExecutor, as_completed
import pandas as pd
import matplotlib.pyplot as plt


# Función para probar un solo subdominio
def probar_subdominio(subdominio_completo):
    resolver = dns.resolver.Resolver()
    resolver.timeout = 2
    resolver.lifetime = 2
    try:
        respuestas = resolver.resolve(subdominio_completo, 'A')
        return (subdominio_completo, [str(r) for r in respuestas])
    except:
        return None

# Función para cargar la wordlist
def cargar_wordlist(ruta):
    with open(ruta, 'r') as f:
        return [line.strip() for line in f if line.strip()]


dominio = "google.com"
wordlist = cargar_wordlist("subdominios.txt")  # Asegúrate de tener este archivo
print(f"Wordlist cargada con {len(wordlist)} palabras.")
# Preview de los primeros 10 subdominios a probar
print([f"{sd}.{dominio}" for sd in wordlist[:10]])



